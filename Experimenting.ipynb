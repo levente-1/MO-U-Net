{
 "cells": [
  {
   "cell_type": "code",
   "execution_count": 5,
   "metadata": {},
   "outputs": [
    {
     "name": "stderr",
     "output_type": "stream",
     "text": [
      "/home/levibaljer/anaconda3/envs/unet_old/lib/python3.12/site-packages/tqdm/auto.py:21: TqdmWarning: IProgress not found. Please update jupyter and ipywidgets. See https://ipywidgets.readthedocs.io/en/stable/user_install.html\n",
      "  from .autonotebook import tqdm as notebook_tqdm\n"
     ]
    }
   ],
   "source": [
    "import torch\n",
    "import torch.nn as nn\n",
    "import torch.nn.functional as F\n",
    "\n",
    "\n",
    "from dataloaders import get_quartet_dataloader"
   ]
  },
  {
   "cell_type": "code",
   "execution_count": 6,
   "metadata": {},
   "outputs": [
    {
     "name": "stdout",
     "output_type": "stream",
     "text": [
      "['Sub02.h5', 'Sub04.h5', 'Sub05.h5', 'Sub08.h5', 'Sub12.h5', 'Sub13.h5', 'Sub14.h5', 'Sub15.h5', 'Sub17.h5', 'Sub19.h5', 'Sub20.h5', 'Sub23.h5', 'Sub25.h5', 'Sub26.h5', 'Sub27.h5', 'Sub31.h5', 'Sub32.h5', 'Sub37.h5', 'Sub38.h5', 'Sub39.h5', 'Sub41.h5', 'Sub42.h5', 'Sub44.h5', 'Sub45.h5', 'Sub46.h5', 'Sub50.h5', 'Sub51.h5', 'Sub52.h5', 'Sub53.h5', 'Sub54.h5', 'Sub56.h5', 'Sub57.h5', 'Sub61.h5', 'Sub62.h5', 'Sub63.h5']\n",
      "\n",
      " \n",
      " h5 Files, len list 35\n",
      "Loading 35 quartets \n",
      " \n",
      "\n",
      "\n",
      " rm test, size LF images (35, 3, 160, 160, 160)\n",
      "\n",
      " rm test, size HF image (35, 1, 160, 160, 160)\n",
      "['Sub03.h5', 'Sub18.h5', 'Sub27.h5', 'Sub43.h5', 'Sub54.h5', 'Sub56.h5', 'Sub62.h5']\n",
      "\n",
      " \n",
      " h5 Files, len list 7\n",
      "Loading 7 quartets \n",
      " \n",
      "\n",
      "\n",
      " rm test, size LF images (7, 3, 160, 160, 160)\n",
      "\n",
      " rm test, size HF image (7, 1, 160, 160, 160)\n"
     ]
    }
   ],
   "source": [
    "train_loader, val_loader = get_quartet_dataloader(train_dir = '/media/hdd/levibaljer/KhulaFinal/Fold1/train/preprocessed_h5_train', val_dir = '/media/hdd/levibaljer/KhulaFinal/Fold2/val/preprocessed_h5_val', batch_size = 1, output_dir='/media/hdd/levibaljer/UNet_old/Fold2')"
   ]
  },
  {
   "cell_type": "code",
   "execution_count": 7,
   "metadata": {},
   "outputs": [],
   "source": [
    "def get_data():\n",
    "    for i, data in enumerate(train_loader):\n",
    "        print(i)\n",
    "        print(len(data))\n",
    "        break\n",
    "    return data"
   ]
  },
  {
   "cell_type": "code",
   "execution_count": 8,
   "metadata": {},
   "outputs": [
    {
     "name": "stdout",
     "output_type": "stream",
     "text": [
      "0\n",
      "2\n"
     ]
    }
   ],
   "source": [
    "import matplotlib.pyplot as plt\n",
    "data = get_data()"
   ]
  },
  {
   "cell_type": "code",
   "execution_count": 9,
   "metadata": {},
   "outputs": [
    {
     "name": "stdout",
     "output_type": "stream",
     "text": [
      "torch.Size([1, 3, 160, 160, 160])\n",
      "torch.Size([1, 1, 160, 160, 160])\n"
     ]
    }
   ],
   "source": [
    "print(data[0].shape)\n",
    "print(data[1].shape)"
   ]
  },
  {
   "cell_type": "code",
   "execution_count": 12,
   "metadata": {},
   "outputs": [],
   "source": [
    "LF = data[0][:,0,:,:,:].unsqueeze(1)\n",
    "HF = data[1]"
   ]
  },
  {
   "cell_type": "code",
   "execution_count": 13,
   "metadata": {},
   "outputs": [
    {
     "name": "stdout",
     "output_type": "stream",
     "text": [
      "torch.Size([1, 1, 160, 160, 160])\n",
      "torch.Size([1, 1, 160, 160, 160])\n"
     ]
    }
   ],
   "source": [
    "print(LF.shape)\n",
    "print(HF.shape)"
   ]
  },
  {
   "cell_type": "code",
   "execution_count": 14,
   "metadata": {},
   "outputs": [
    {
     "data": {
      "text/plain": [
       "<matplotlib.image.AxesImage at 0x7f7b5b106f60>"
      ]
     },
     "execution_count": 14,
     "metadata": {},
     "output_type": "execute_result"
    },
    {
     "data": {
      "image/png": "[encoded data removed]",
      "text/plain": [
       "<Figure size 640x480 with 1 Axes>"
      ]
     },
     "metadata": {},
     "output_type": "display_data"
    }
   ],
   "source": [
    "plt.imshow(data[1][0,0,110,:,:], cmap='gray')"
   ]
  },
  {
   "cell_type": "code",
   "execution_count": 2,
   "metadata": {},
   "outputs": [],
   "source": [
    "import lpips\n",
    "import numpy as np"
   ]
  },
  {
   "cell_type": "code",
   "execution_count": 15,
   "metadata": {},
   "outputs": [],
   "source": [
    "def randomSlices(img_gt, img_pred):\n",
    "    dim1_gt = []\n",
    "    dim2_gt = []\n",
    "    dim3_gt = []\n",
    "\n",
    "    dim1_pred = []\n",
    "    dim2_pred = []\n",
    "    dim3_pred = []\n",
    "\n",
    "    for i in range(2):\n",
    "        dim1Slice = np.random.randint(50, 120)\n",
    "        dim2Slice = np.random.randint(40, 110)\n",
    "        dim3Slice = np.random.randint(40, 100)\n",
    "\n",
    "        dim1_gt.append(img_gt[:, :, dim1Slice, :, :])\n",
    "        dim2_gt.append(img_gt[:, :, :, dim2Slice, :])\n",
    "        dim3_gt.append(img_gt[:, :, :, :, dim3Slice])\n",
    "\n",
    "        dim1_pred.append(img_pred[:, :, dim1Slice, :, :])\n",
    "        dim2_pred.append(img_pred[:, :, :, dim2Slice, :])\n",
    "        dim3_pred.append(img_pred[:, :, :, :, dim3Slice])\n",
    "\n",
    "    finalList_gt = dim1_gt + dim2_gt + dim3_gt\n",
    "    finalList_pred = dim1_pred + dim2_pred + dim3_pred\n",
    "   \n",
    "    torchList_gt = []\n",
    "    torchList_pred = []\n",
    "\n",
    "    for i in range(len(finalList_gt)):\n",
    "        new_torch_gt = (finalList_gt[i] * 2) - 1\n",
    "        new_torch_pred = (finalList_pred[i] * 2) - 1\n",
    "        \n",
    "        new_torch_gt = new_torch_gt.expand(1, 3, 160, 160)\n",
    "        new_torch_pred = new_torch_pred.expand(1, 3, 160, 160)\n",
    "       \n",
    "        torchList_gt.append(new_torch_gt)\n",
    "        torchList_pred.append(new_torch_pred)\n",
    "   \n",
    "    finalTorchGT = torch.concat(torchList_gt, dim=0)\n",
    "    finalTorchpred = torch.concat(torchList_pred, dim=0)\n",
    "    \n",
    "    return finalTorchGT, finalTorchpred"
   ]
  },
  {
   "cell_type": "code",
   "execution_count": 16,
   "metadata": {},
   "outputs": [],
   "source": [
    "slicesGT, slicesPred = randomSlices4(HF, LF)"
   ]
  },
  {
   "cell_type": "code",
   "execution_count": 17,
   "metadata": {},
   "outputs": [
    {
     "name": "stdout",
     "output_type": "stream",
     "text": [
      "torch.Size([6, 3, 160, 160])\n"
     ]
    }
   ],
   "source": [
    "print(slicesGT.shape)"
   ]
  },
  {
   "cell_type": "code",
   "execution_count": 19,
   "metadata": {},
   "outputs": [
    {
     "name": "stdout",
     "output_type": "stream",
     "text": [
      "Setting up [LPIPS] perceptual loss: trunk [alex], v[0.1], spatial [off]\n"
     ]
    },
    {
     "name": "stderr",
     "output_type": "stream",
     "text": [
      "/home/levibaljer/anaconda3/envs/unet_old/lib/python3.12/site-packages/torchvision/models/_utils.py:208: UserWarning: The parameter 'pretrained' is deprecated since 0.13 and may be removed in the future, please use 'weights' instead.\n",
      "  warnings.warn(\n",
      "/home/levibaljer/anaconda3/envs/unet_old/lib/python3.12/site-packages/torchvision/models/_utils.py:223: UserWarning: Arguments other than a weight enum or `None` for 'weights' are deprecated since 0.13 and may be removed in the future. The current behavior is equivalent to passing `weights=AlexNet_Weights.IMAGENET1K_V1`. You can also use `weights=AlexNet_Weights.DEFAULT` to get the most up-to-date weights.\n",
      "  warnings.warn(msg)\n"
     ]
    },
    {
     "name": "stdout",
     "output_type": "stream",
     "text": [
      "Loading model from: /home/levibaljer/anaconda3/envs/unet_old/lib/python3.12/site-packages/lpips/weights/v0.1/alex.pth\n"
     ]
    },
    {
     "name": "stderr",
     "output_type": "stream",
     "text": [
      "/home/levibaljer/anaconda3/envs/unet_old/lib/python3.12/site-packages/lpips/lpips.py:107: FutureWarning: You are using `torch.load` with `weights_only=False` (the current default value), which uses the default pickle module implicitly. It is possible to construct malicious pickle data which will execute arbitrary code during unpickling (See https://github.com/pytorch/pytorch/blob/main/SECURITY.md#untrusted-models for more details). In a future release, the default value for `weights_only` will be flipped to `True`. This limits the functions that could be executed during unpickling. Arbitrary objects will no longer be allowed to be loaded via this mode unless they are explicitly allowlisted by the user via `torch.serialization.add_safe_globals`. We recommend you start setting `weights_only=True` for any use case where you don't have full control of the loaded file. Please open an issue on GitHub for any issues related to this experimental feature.\n",
      "  self.load_state_dict(torch.load(model_path, map_location='cpu'), strict=False)\n"
     ]
    }
   ],
   "source": [
    "loss_fn = lpips.LPIPS(net='alex')"
   ]
  },
  {
   "cell_type": "code",
   "execution_count": 20,
   "metadata": {},
   "outputs": [
    {
     "name": "stdout",
     "output_type": "stream",
     "text": [
      "tensor([[[[0.0789]]],\n",
      "\n",
      "\n",
      "        [[[0.0974]]],\n",
      "\n",
      "\n",
      "        [[[0.0999]]],\n",
      "\n",
      "\n",
      "        [[[0.0883]]],\n",
      "\n",
      "\n",
      "        [[[0.0801]]],\n",
      "\n",
      "\n",
      "        [[[0.0709]]]], grad_fn=<AddBackward0>)\n",
      "tensor(0.0859, grad_fn=<MeanBackward0>)\n"
     ]
    }
   ],
   "source": [
    "d = loss_fn.forward(slicesGT,slicesPred)\n",
    "print(d)\n",
    "print(torch.mean(d))"
   ]
  },
  {
   "cell_type": "code",
   "execution_count": 21,
   "metadata": {},
   "outputs": [],
   "source": [
    "mse = torch.nn.MSELoss()"
   ]
  },
  {
   "cell_type": "code",
   "execution_count": 22,
   "metadata": {},
   "outputs": [
    {
     "name": "stdout",
     "output_type": "stream",
     "text": [
      "tensor(0.0015)\n"
     ]
    }
   ],
   "source": [
    "print(mse(HF, LF))"
   ]
  },
  {
   "cell_type": "code",
   "execution_count": null,
   "metadata": {},
   "outputs": [],
   "source": []
  }
 ],
 "metadata": {
  "kernelspec": {
   "display_name": "Python 3.8.13 ('unet')",
   "language": "python",
   "name": "python3"
  },
  "language_info": {
   "codemirror_mode": {
    "name": "ipython",
    "version": 3
   },
   "file_extension": ".py",
   "mimetype": "text/x-python",
   "name": "python",
   "nbconvert_exporter": "python",
   "pygments_lexer": "ipython3",
   "version": "3.12.4"
  },
  "orig_nbformat": 4,
  "vscode": {
   "interpreter": {
    "hash": "549ff37ad36f3af9adb15f4b1069623d7088296186a413be2bb150e02cf77d25"
   }
  }
 },
 "nbformat": 4,
 "nbformat_minor": 2
}
